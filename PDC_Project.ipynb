{
  "nbformat": 4,
  "nbformat_minor": 0,
  "metadata": {
    "colab": {
      "provenance": [],
      "toc_visible": true
    },
    "kernelspec": {
      "name": "python3",
      "display_name": "Python 3"
    },
    "language_info": {
      "name": "python"
    }
  },
  "cells": [
    {
      "cell_type": "markdown",
      "source": [
        "# RSA - Serial Execution\n",
        "\n"
      ],
      "metadata": {
        "id": "GMVBAOLyh7qJ"
      }
    },
    {
      "cell_type": "markdown",
      "source": [
        "### Importing Libraries\n"
      ],
      "metadata": {
        "id": "6JYNrvZ2i51M"
      }
    },
    {
      "cell_type": "code",
      "source": [
        "#serial Implementation of RSA algorithm to generate large prime numbers\n",
        "import time"
      ],
      "metadata": {
        "id": "bmnm8k_BiMZp"
      },
      "execution_count": null,
      "outputs": []
    },
    {
      "cell_type": "markdown",
      "source": [
        "### Defining functions"
      ],
      "metadata": {
        "id": "xn1cEGoui-FR"
      }
    },
    {
      "cell_type": "code",
      "source": [
        "# function to calculate large prime numbers using Seive of eratosthenes algorithm\n",
        "def prime_num_cal(n):\n",
        "    # creating a list of numbers substituted with \"True\" in place\n",
        "    range_of_n = [True for x in range(n+1)]\n",
        "    #Smallest prime number\n",
        "    p=2\n",
        "    while(p*p <= n):\n",
        "        # If not 'false' then number is not prime\n",
        "        if (range_of_n[p] == True):\n",
        "            for i in range(p*p , n+1 , p):\n",
        "                #Marking 'True' for the multiple of 'P'\n",
        "                range_of_n[i]=False\n",
        "        p=p+1\n",
        "    prime_numbers=[]\n",
        "\n",
        "    for i in range(int(n*0.5),n+1):\n",
        "        if(range_of_n[i]==True):\n",
        "            prime_numbers.append(i)\n",
        "    return prime_numbers\n",
        "\n",
        "# calculating the modulus for large numbers\n",
        "def mod_calculator(num,mod):\n",
        "    residual = 0\n",
        "    temp = str(num)\n",
        "    for i in range(0,len(temp)):\n",
        "        residual = (residual*10 + int(temp[i]))%mod\n",
        "    return residual\n",
        "\n",
        "  # calculating gcd using euclidian method\n",
        "def gcd(a,b):\n",
        "    if(a==0):\n",
        "        return b\n",
        "    return gcd(b%a,a)\n",
        "\n",
        "# calculation of modulo inverse using extended euclidian method\n",
        "def modInverse(a, m) :\n",
        "    m0 = m\n",
        "    y = 0\n",
        "    x = 1\n",
        "    if (m == 1) :\n",
        "        return 0\n",
        "    while (a > 1) :\n",
        "        q = a // m\n",
        "        t = m\n",
        "        m = a % m\n",
        "        a = t\n",
        "        t = y\n",
        "        y = x - q * y\n",
        "        x = t\n",
        "    if (x < 0) :\n",
        "        x = x + m0\n",
        "    return x"
      ],
      "metadata": {
        "id": "9byq7KgiiL16"
      },
      "execution_count": null,
      "outputs": []
    },
    {
      "cell_type": "markdown",
      "source": [
        "### Running the program"
      ],
      "metadata": {
        "id": "64m0NzMqjFCw"
      }
    },
    {
      "cell_type": "code",
      "source": [
        "# generating prime numbers\n",
        "prime_num1 = prime_num_cal(200)[-1]\n",
        "prime_num2 = prime_num_cal(300)[-1]\n",
        "\n",
        "# calculating 'n' and euler's totient function\n",
        "n= prime_num1 * prime_num2\n",
        "eulers_totient = (prime_num1-1) * (prime_num2-1)\n",
        "\n",
        "# calculating public key for encryption\n",
        "for i in range(eulers_totient,int(eulers_totient*0.5),-1):\n",
        "    if(i%2==1):\n",
        "        if(gcd(eulers_totient,i)==1):\n",
        "            public_key=i\n",
        "            break\n",
        "\n",
        "# calculating private key for decryption\n",
        "private_key = (modInverse(public_key,eulers_totient))\n",
        "\n",
        "# creating dictionary of alphabets and there resp positions\n",
        "alpha = [chr(x) for x in range(ord('a'), ord('z') + 1)]\n",
        "pos = [x for x in range(1,27)]\n",
        "enc_dict = {k:v for (k,v) in zip(alpha,pos)}\n",
        "dec_dict = {k:v for (k,v) in zip(pos,alpha)}\n",
        "enc_dict[' ']= 0\n",
        "dec_dict[0]=' '\n",
        "#print(enc_dict,\"\\n\",dec_dict)\n",
        "\n",
        "# user section\n",
        "initial = time.time()\n",
        "inp = \"osama was killed\"\n",
        "\n",
        "position,enc_text,dec_text = [],[],[]\n",
        "for i in inp:\n",
        "    position.append(enc_dict[i])\n",
        "for i in position:\n",
        "    enc_text.append(str(mod_calculator(pow(i,public_key),n)))\n",
        "print(\"\\nencrypted text : \"+''.join(enc_text)+\"\\n\")\n",
        "for i in enc_text:\n",
        "    dec_text.append(dec_dict[mod_calculator(pow(int(i),private_key),n)])\n",
        "print(\"decrypted text : \"+''.join(dec_text))\n",
        "\n",
        "end = time.time()\n",
        "print(\"\\ntime elapsed \",end-initial)\n",
        "\n"
      ],
      "metadata": {
        "colab": {
          "base_uri": "https://localhost:8080/"
        },
        "id": "q46p5EmBiZ0y",
        "outputId": "5e189b27-72a9-41cc-c6c6-3fb728b3e77a"
      },
      "execution_count": null,
      "outputs": [
        {
          "output_type": "stream",
          "name": "stdout",
          "text": [
            "\n",
            "encrypted text : 2721015344126911102788611534401590245350485948592332314577\n",
            "\n",
            "decrypted text : osama was killed\n",
            "\n",
            "time elapsed  13.746216058731079\n"
          ]
        }
      ]
    },
    {
      "cell_type": "markdown",
      "source": [
        "#RSA Parallel"
      ],
      "metadata": {
        "id": "OcNbvw9FiAMM"
      }
    },
    {
      "cell_type": "markdown",
      "source": [
        "### Importing Libraries\n"
      ],
      "metadata": {
        "id": "rnv6qPwmjJdp"
      }
    },
    {
      "cell_type": "code",
      "source": [
        "#parallel Implementation of RSA algorithm to generate large prime numbers\n",
        "import multiprocessing\n",
        "import time"
      ],
      "metadata": {
        "id": "xwAWVtj-jKld"
      },
      "execution_count": null,
      "outputs": []
    },
    {
      "cell_type": "markdown",
      "source": [
        "### Defining functions"
      ],
      "metadata": {
        "id": "5SL2Fz3DjRsU"
      }
    },
    {
      "cell_type": "code",
      "source": [
        "# function to calculate large prime numbers using Seive of eratosthenes algorithm\n",
        "def prime_num_cal(n):\n",
        "# creating a list of numbers substituted with \"True\" in place\n",
        "  range_of_n = [True for x in range(n+1)]\n",
        "#Smallest prime number\n",
        "  p=2\n",
        "  while(p*p <= n):\n",
        "# If not 'false' then number is not prime\n",
        "    if (range_of_n[p] == True):\n",
        "      for i in range(p*p , n+1 , p):\n",
        "        range_of_n[i] = False\n",
        "        p = p + 1\n",
        "  prime_numbers = []\n",
        "  for i in range(int(n * 0.5), n + 1):\n",
        "    if (range_of_n[i] == True):\n",
        "      prime_numbers.append(i)\n",
        "  return prime_numbers\n",
        "\n",
        "# calculating the modulus for large numbers\n",
        "def mod_calculator(num, mod):\n",
        "  residual = 0\n",
        "  temp = str(num)\n",
        "  for i in range(0, len(temp)):\n",
        "    residual = (residual * 10 + int(temp[i])) % mod\n",
        "  return residual\n",
        "\n",
        "# calculating gcd using euclidian method\n",
        "def gcd(a, b):\n",
        "  if (a == 0):\n",
        "    return b\n",
        "  return gcd(b % a, a)\n",
        "\n",
        "# calculation of modulo inverse using extended euclidian method\n",
        "def modInverse(a, m):\n",
        "  m0 = m\n",
        "  y = 0\n",
        "  x = 1\n",
        "  if (m == 1):\n",
        "    return 0\n",
        "  while (a > 1):\n",
        "    q = a // m\n",
        "    t = m\n",
        "    m = a % m\n",
        "    a = t\n",
        "    t = y\n",
        "    y = x - q * y\n",
        "    x = t\n",
        "  if (x < 0):\n",
        "    x = x + m0\n",
        "  return x\n",
        "\n",
        "def mod_calculator_par(num):\n",
        "  residual = 0\n",
        "  temp = str(num)\n",
        "  for i in range(0,len(temp)):\n",
        "    residual = (residual*10 + int(temp[i]))%n\n",
        "  return residual"
      ],
      "metadata": {
        "id": "1Z8-w_XTjWsC"
      },
      "execution_count": null,
      "outputs": []
    },
    {
      "cell_type": "markdown",
      "source": [
        "### Running the program"
      ],
      "metadata": {
        "id": "-9aeaaMyjs8E"
      }
    },
    {
      "cell_type": "code",
      "source": [
        "\n",
        "# generating prime numbers\n",
        "prime_num1 = prime_num_cal(200)[-1]\n",
        "prime_num2 = prime_num_cal(300)[-1]\n",
        "# calculating 'n' and euler's totient function\n",
        "n= prime_num1 * prime_num2\n",
        "eulers_totient = (prime_num1-1) *(prime_num2-1)\n",
        "# calculating public key for encryption\n",
        "for i in range(eulers_totient,int(eulers_totient*0.5),-1):\n",
        "  if(i%2==1):\n",
        "    if(gcd(eulers_totient,i)==1):\n",
        "      public_key=i\n",
        "      break\n",
        "# calculating private key for decryption\n",
        "private_key = (modInverse(public_key,eulers_totient))\n",
        "#creating dictionary of alphabets and there resp positions\n",
        "alpha = [chr(x) for x in range(ord('a'), ord('z') +1)]\n",
        "pos = [x for x in range(1,27)]\n",
        "enc_dict = {k:v for (k,v) in zip(alpha,pos)}\n",
        "dec_dict = {k:v for (k,v) in zip(pos,alpha)}\n",
        "enc_dict[' ']= 0\n",
        "dec_dict[0]=' '\n",
        "#print(enc_dict,\"\\n\",dec_dict)\n",
        "\n",
        "inp = \"osama was killed\"\n",
        "if __name__=='__main__':\n",
        "# user section\n",
        "  initial = time.time()\n",
        "  string = list(inp)\n",
        "  position_dec,position_enc,enc_text,dec_text = [],[],[],[]\n",
        "  for i in string:\n",
        "    position_dec.append(enc_dict[i])\n",
        "  position_dec = [pow(x,public_key) for x in position_dec]\n",
        "  p_obj = multiprocessing.Pool()\n",
        "  enc_text = p_obj.map(mod_calculator_par,position_dec)\n",
        "  p_obj.close()\n",
        "  p_obj.join()\n",
        "  dup_enc_text = []\n",
        "  dup_enc_text = [str(x) for x in enc_text]\n",
        "  print(\"encrypted text : \"+''.join(dup_enc_text))\n",
        "  position_enc = [pow(x,private_key) for x in enc_text]\n",
        "  p_obj2 = multiprocessing.Pool()\n",
        "  dec_text = p_obj2.map(mod_calculator_par,position_enc)\n",
        "  p_obj2.close()\n",
        "  p_obj2.join()\n",
        "  dec_text1=[]\n",
        "  for text in dec_text:\n",
        "    dec_text1.append(dec_dict[text])\n",
        "  print(\"decrypted text : \"+ ''.join(dec_text1))\n",
        "  end = time.time()\n",
        "  print(\"\\ntime elapsed \",end-initial)"
      ],
      "metadata": {
        "colab": {
          "base_uri": "https://localhost:8080/"
        },
        "id": "mqH4ZeiAlRjU",
        "outputId": "1082965f-5103-4ff8-ca2c-5befa42851b1"
      },
      "execution_count": null,
      "outputs": [
        {
          "output_type": "stream",
          "name": "stdout",
          "text": [
            "encrypted text : 15867344481422510338561344480270462644534709347094760144626\n",
            "decrypted text : osama was killed\n",
            "\n",
            "time elapsed  9.916811466217041\n"
          ]
        }
      ]
    }
  ]
}